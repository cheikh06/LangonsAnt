{
 "cells": [
  {
   "cell_type": "markdown",
   "metadata": {},
   "source": [
    "### Fourmi de Langton"
   ]
  },
  {
   "cell_type": "markdown",
   "metadata": {},
   "source": [
    "On nomme fourmi de Langton un automate cellulaire (voir machine de Turing) bidimensionnel comportant un jeu de règles très simples. On lui a donné le nom de Christopher Langton, son inventeur.\n",
    "\n",
    "https://fr.wikipedia.org/wiki/Fourmi_de_Langton\n",
    "\n",
    "\n",
    "Un automate cellulaire est un systéme constitué de structures élémentaires simples, qui évolue de façon discontinue dans le temps et selon des règles fixées d'avance et déterministes.\n",
    "\n",
    "Vous pouvez consulter cette excellente vidéo de science étonnante https://www.youtube.com/watch?v=qZRYGxF6D3w&t=124s  \n",
    "\n",
    "\n"
   ]
  },
  {
   "cell_type": "markdown",
   "metadata": {},
   "source": [
    "#### Règles"
   ]
  },
  {
   "cell_type": "markdown",
   "metadata": {},
   "source": [
    "Les cases d'une grille bidimensionnelle peuvent être blanches ou noires. On considère arbitrairement l'une de ces cases comme étant l'emplacement initial de la fourmi. Dans l'état initial, toutes les cases sont de la même couleur.\n",
    "\n",
    "La fourmi peut se déplacer à gauche, à droite, en haut ou en bas d'une case à chaque fois selon les règles suivantes :\n",
    "\n",
    "* Si la fourmi est sur une case noire, elle tourne de 90° vers la gauche, change la couleur de la case en blanc et avance d'une case.\n",
    "* Si la fourmi est sur une case blanche, elle tourne de 90° vers la droite, change la couleur de la case en noir et avance d'une case.\n",
    "\n",
    "Il est également possible de définir la fourmi de Langton comme un automate cellulaire où la plupart des cases de la grille sont blanches ou noires et où la case de la fourmi peut prendre huit états différents, codant à la fois sa couleur et la direction de la fourmi.\n",
    "\n"
   ]
  },
  {
   "cell_type": "markdown",
   "metadata": {},
   "source": [
    "Ce systéme illustre comment à partir de règles simples, on peut arriver à un comportement fascinant."
   ]
  },
  {
   "cell_type": "code",
   "execution_count": 1,
   "metadata": {},
   "outputs": [],
   "source": [
    "import matplotlib\n",
    "import matplotlib.pyplot as plt\n",
    "from matplotlib import animation\n",
    "from IPython.display import HTML\n",
    "import numpy as np\n",
    "\n",
    "matplotlib.rcParams['animation.embed_limit'] = 200"
   ]
  },
  {
   "cell_type": "code",
   "execution_count": 2,
   "metadata": {},
   "outputs": [],
   "source": [
    "dim=100\n",
    "M=np.zeros((dim,dim))   #J'initialise ma grille avec des cases blanches\n",
    "\n",
    "\n",
    "Fourmi_position=np.array([[dim//2],[dim//2]])  #J'initialise la position de la fourmi au centre\n",
    "direction=np.array([[1],[0]])  \n",
    "\n",
    "\n",
    "def _step(M,Fourmi_position,direction,dim):\n",
    "    \n",
    "    RotationVersLaDroite=np.array([[0,1],[-1,0]])  #Matrice de rotation 90° vers la droite\n",
    "    RotationVersLaGauche=np.array([[0,-1],[1,0]])   #Matrice de rotation 90° vers la gauche\n",
    "    \n",
    "    if not np.isin(dim, Fourmi_position):\n",
    "        if M[Fourmi_position[0],Fourmi_position[1]]==0:  #case blanche\n",
    "            direction[:]=np.dot(RotationVersLaDroite,direction) #change l'orientation\n",
    "            M[Fourmi_position[0],Fourmi_position[1]]=1 #change la couleur\n",
    "            Fourmi_position[:]+=direction #La fourmi avance\n",
    "            \n",
    "        else:\n",
    "            direction[:]=np.dot(RotationVersLaGauche,direction)\n",
    "            M[Fourmi_position[0],Fourmi_position[1]]=0\n",
    "            Fourmi_position[:]+=direction\n",
    "            \n",
    "\n",
    "\n",
    "fig = plt.figure(figsize=(10, 10))\n",
    "im = plt.imshow(M, cmap='binary',interpolation='nearest',vmin=0, vmax=1)\n",
    "title=plt.title('')\n",
    "plt.xticks([]),plt.yticks([])\n",
    "plt.close()\n",
    "\n",
    "            \n",
    "\n",
    "    \n",
    "def init():\n",
    "    im.set_data(([],[]))  #Permet d'avoir le cadre de base pour les animations\n",
    "    return [im]\n",
    "        \n",
    "\n",
    "def animate(i):\n",
    "    _step(M, Fourmi_position, direction,dim)\n",
    "    im.set_data(M)\n",
    "    title.set_text(f't={i+1}')\n",
    "    return [im]\n",
    "\n",
    "\n",
    "\n",
    "anim = animation.FuncAnimation(fig, animate, interval=50,\n",
    "                               frames=12000,blit=True,\n",
    "                               repeat=False,cache_frame_data=False, init_func=init)\n",
    "\n",
    "\n",
    "anim.save('anim.mp4') #utilise  ffmpeg"
   ]
  },
  {
   "cell_type": "code",
   "execution_count": 14,
   "metadata": {},
   "outputs": [],
   "source": [
    "#Pour l'avoir en format plus fun, mais la taille du notebook sera très grande,décommenter la ligne suivante\n",
    "\n",
    "#HTML(anim.to_jshtml())"
   ]
  },
  {
   "cell_type": "code",
   "execution_count": 10,
   "metadata": {},
   "outputs": [
    {
     "data": {
      "text/html": [
       "\n",
       "    <video  width=\"520\" height=\"440\" controls>\n",
       "        <source src=\"./anim.mp4\" type=\"video/mp4\">\n",
       "    </video>\n"
      ],
      "text/plain": [
       "<IPython.core.display.HTML object>"
      ]
     },
     "execution_count": 10,
     "metadata": {},
     "output_type": "execute_result"
    }
   ],
   "source": [
    "HTML(\"\"\"\n",
    "    <video  width=\"520\" height=\"440\" controls>\n",
    "        <source src=\"./anim.mp4\" type=\"video/mp4\">\n",
    "    </video>\n",
    "\"\"\")\n"
   ]
  },
  {
   "cell_type": "markdown",
   "metadata": {},
   "source": [
    "Vous pouvez avancer la vidéo, vers 8 mn 38, aux environs de 10000 steps, la fourmi commence à se construire une route qu'elle semble suivre indéfiniment ."
   ]
  },
  {
   "cell_type": "markdown",
   "metadata": {},
   "source": [
    "\n",
    "Ce comportement est observé même si on initialise la grille aléatoirement avec des cases noires et blanches, ou la position de la fourmi (voir les références).\n",
    "\n"
   ]
  },
  {
   "cell_type": "markdown",
   "metadata": {},
   "source": [
    "### Conclusion\n",
    "Si ces choses vous ont intéressées, vous pouvez également consulter la vidéo https://www.youtube.com/watch?v=S-W0NX97DB0&t=842s sur le jeu de la vie."
   ]
  },
  {
   "cell_type": "markdown",
   "metadata": {},
   "source": [
    "### Sources:\n",
    "https://www.youtube.com/watch?v=qZRYGxF6D3w&t=124s \n",
    "https://matplotlib.org/3.1.1/api/_as_gen/matplotlib.animation.FuncAnimation.html\n",
    "https://www.w3schools.com/tags/tag_video.asp"
   ]
  }
 ],
 "metadata": {
  "kernelspec": {
   "display_name": "Python 3",
   "language": "python",
   "name": "python3"
  },
  "language_info": {
   "codemirror_mode": {
    "name": "ipython",
    "version": 3
   },
   "file_extension": ".py",
   "mimetype": "text/x-python",
   "name": "python",
   "nbconvert_exporter": "python",
   "pygments_lexer": "ipython3",
   "version": "3.8.5"
  }
 },
 "nbformat": 4,
 "nbformat_minor": 4
}
